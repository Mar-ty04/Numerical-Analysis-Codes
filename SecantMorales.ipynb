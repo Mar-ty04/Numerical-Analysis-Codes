{
 "cells": [
  {
   "cell_type": "code",
   "execution_count": 3,
   "id": "98d27cff-c5bf-49f0-aae5-7861cfcb77b6",
   "metadata": {},
   "outputs": [],
   "source": [
    "import numpy as np"
   ]
  },
  {
   "cell_type": "code",
   "execution_count": 5,
   "id": "300fd8f9-0b07-4e23-8e02-9863d236c7c3",
   "metadata": {},
   "outputs": [],
   "source": [
    "def SecantMorales(p0, p1, TOL, N0):\n",
    "    i = 2\n",
    "    q0 = f(p0)\n",
    "    q1 = f(p1)\n",
    "    while i <= N0:\n",
    "        p = p1 - q1*(p1 - p0)/(q1 - q0)\n",
    "        if abs(p - p1) < TOL:\n",
    "            info = 0\n",
    "            return info, p, i \n",
    "        i += 1\n",
    "        p0 = p1\n",
    "        q0 = q1\n",
    "        p1 = p \n",
    "        q1 = f(p)\n",
    "    info = 1\n",
    "    return info, p, i"
   ]
  },
  {
   "cell_type": "code",
   "execution_count": 15,
   "id": "e69981c3-1c4a-4ef7-b312-412a137dc363",
   "metadata": {},
   "outputs": [
    {
     "name": "stdout",
     "output_type": "stream",
     "text": [
      "info = 0\n",
      "p = -2.879385194736809\n",
      "Number of iterations = 7\n",
      "Textbook solution: p7 = -2.87939\n"
     ]
    }
   ],
   "source": [
    "#problem 7 from textbook part (b)\n",
    "def f(x):\n",
    "    return x**3 + 3*x**2 - 1\n",
    "p0 = -3\n",
    "p1 = -2\n",
    "TOL = 10**-4\n",
    "N0 = 1000\n",
    "[info, p, nIter] = SecantMorales(p0, p1, TOL, N0)\n",
    "print(f\"info = {info}\")\n",
    "print(f\"p = {p}\")\n",
    "print(f\"Number of iterations = {nIter}\")\n",
    "print(\"Textbook solution: p7 = -2.87939\")"
   ]
  },
  {
   "cell_type": "code",
   "execution_count": 19,
   "id": "e3ef2b35-add6-4b47-bdf8-4875f13e69c9",
   "metadata": {},
   "outputs": [
    {
     "name": "stdout",
     "output_type": "stream",
     "text": [
      "info = 0\n",
      "p = 0.964333884548886\n",
      "Number of iterations = 5\n",
      "Textbook solution: p5 = 0.96433\n"
     ]
    }
   ],
   "source": [
    "#problem 7 from textbook part (d)\n",
    "def f(x):\n",
    "    return x - 0.8 - 0.2*np.sin(x)\n",
    "p0 = 0\n",
    "p1 = np.pi/2\n",
    "TOL = 10**-4\n",
    "N0 = 1000\n",
    "[info, p, nIter] = SecantMorales(p0, p1, TOL, N0)\n",
    "print(f\"info = {info}\")\n",
    "print(f\"p = {p}\")\n",
    "print(f\"Number of iterations = {nIter}\")\n",
    "print(\"Textbook solution: p5 = 0.96433\")"
   ]
  },
  {
   "cell_type": "code",
   "execution_count": null,
   "id": "b2a8b3d4-3144-4048-888e-75d191533d60",
   "metadata": {},
   "outputs": [],
   "source": []
  }
 ],
 "metadata": {
  "kernelspec": {
   "display_name": "Python [conda env:base] *",
   "language": "python",
   "name": "conda-base-py"
  },
  "language_info": {
   "codemirror_mode": {
    "name": "ipython",
    "version": 3
   },
   "file_extension": ".py",
   "mimetype": "text/x-python",
   "name": "python",
   "nbconvert_exporter": "python",
   "pygments_lexer": "ipython3",
   "version": "3.12.7"
  }
 },
 "nbformat": 4,
 "nbformat_minor": 5
}
