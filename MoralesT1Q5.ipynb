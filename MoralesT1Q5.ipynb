{
 "cells": [
  {
   "cell_type": "code",
   "execution_count": 57,
   "id": "bc69415e-cb92-42b0-af06-e92dbe36832b",
   "metadata": {},
   "outputs": [],
   "source": [
    "import numpy as np\n",
    "import math #learned about this package back in CECS 174"
   ]
  },
  {
   "cell_type": "code",
   "execution_count": 71,
   "id": "7119e2ad-f0f8-44e4-8ea2-a6f3779d5f51",
   "metadata": {},
   "outputs": [],
   "source": [
    "def T1Q5(TOL):\n",
    "    n = 1 #similar to what we have dont previously in class\n",
    "    term = (-1)**n / (n * math.factorial(n-1))\n",
    "    sums = np.exp(-1) + 1  # Initial sum (first two terms), we do this because of how our while loop behaves\n",
    "    #since we want |term|< TOL we need to edit our while loop condition to satisfy that\n",
    "    while abs(term) >= TOL:  # Check term, not the cumulative sum\n",
    "        sums += term #add our term to our current sum\n",
    "        n += 1 #increase our n by 1\n",
    "        term = (-1)**n / (n * math.factorial(n-1))  # Update term based on our current n and then repeat through our while loop\n",
    "        \n",
    "    return n"
   ]
  },
  {
   "cell_type": "code",
   "execution_count": 73,
   "id": "062b6427-8068-46be-add9-eeaf3e66c258",
   "metadata": {},
   "outputs": [
    {
     "name": "stdout",
     "output_type": "stream",
     "text": [
      "our smallest n = 9\n"
     ]
    }
   ],
   "source": [
    "#example 1\n",
    "TOL = 10**-5\n",
    "n = T1Q5(TOL) \n",
    "print(f\"our smallest n = {n}\")"
   ]
  },
  {
   "cell_type": "code",
   "execution_count": 75,
   "id": "eeddc7ab-b58b-496f-8881-2c17789071b7",
   "metadata": {},
   "outputs": [
    {
     "name": "stdout",
     "output_type": "stream",
     "text": [
      "our smallest n = 10\n"
     ]
    }
   ],
   "source": [
    "#example 2\n",
    "TOL = 10**-6\n",
    "n = T1Q5(TOL) \n",
    "print(f\"our smallest n = {n}\")"
   ]
  },
  {
   "cell_type": "code",
   "execution_count": null,
   "id": "1f98d1c1-3dfa-41be-8fca-b5039ff7e5b0",
   "metadata": {},
   "outputs": [],
   "source": []
  }
 ],
 "metadata": {
  "kernelspec": {
   "display_name": "Python [conda env:base] *",
   "language": "python",
   "name": "conda-base-py"
  },
  "language_info": {
   "codemirror_mode": {
    "name": "ipython",
    "version": 3
   },
   "file_extension": ".py",
   "mimetype": "text/x-python",
   "name": "python",
   "nbconvert_exporter": "python",
   "pygments_lexer": "ipython3",
   "version": "3.12.7"
  }
 },
 "nbformat": 4,
 "nbformat_minor": 5
}
