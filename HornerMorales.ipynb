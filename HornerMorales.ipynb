{
 "cells": [
  {
   "cell_type": "code",
   "execution_count": 23,
   "id": "0398d077-e2fa-46a9-a715-dc197a37b079",
   "metadata": {},
   "outputs": [],
   "source": [
    "import numpy as np"
   ]
  },
  {
   "cell_type": "code",
   "execution_count": 25,
   "id": "28e9498a-50b9-47ea-9805-057f24aff63a",
   "metadata": {},
   "outputs": [],
   "source": [
    "def HornerMorales(n, a, x0): #note that a is our number of coefficients\n",
    "    y = a[n]\n",
    "    z = a[n]\n",
    "    for j in range(n - 1, 0, -1):\n",
    "        y = x0 * y + a[j]\n",
    "        z = x0 * z + y\n",
    "    y = x0 * y + a[0]\n",
    "\n",
    "    return y, z\n",
    "    "
   ]
  },
  {
   "cell_type": "code",
   "execution_count": 27,
   "id": "c92015b0-1aec-4fc3-b802-0bf427f5688c",
   "metadata": {},
   "outputs": [
    {
     "name": "stdout",
     "output_type": "stream",
     "text": [
      "Our y = 10\n",
      "Our z = -49\n"
     ]
    }
   ],
   "source": [
    "# example 1 from worksheet 5: P(x) = 2x^4 - 3x^2 + 3x - 4\n",
    "a = [-4, 3, -3, 0, 2]\n",
    "x0 = -2\n",
    "n = len(a)-1\n",
    "y, z = HornerMorales(n, a, x0)\n",
    "print(f\"Our y = {y}\")\n",
    "print(f\"Our z = {z}\") #verified calculations by hand and they are correct"
   ]
  },
  {
   "cell_type": "code",
   "execution_count": 29,
   "id": "af581bf7-1d23-41d0-bf1e-a90a33c342ff",
   "metadata": {},
   "outputs": [
    {
     "name": "stdout",
     "output_type": "stream",
     "text": [
      "Our y = -47\n",
      "Our z = 127\n"
     ]
    }
   ],
   "source": [
    "#example 2 from worksheet 5: P(x) = 2x^5 - 3x^3 + 3x - 1\n",
    "a = [-1, 3, 0, -3, 0, 2]\n",
    "x0 = -2\n",
    "n = len(a)-1\n",
    "y, z = HornerMorales(n, a, x0)\n",
    "print(f\"Our y = {y}\")\n",
    "print(f\"Our z = {z}\") #verified calculations by hand and they are correct"
   ]
  }
 ],
 "metadata": {
  "kernelspec": {
   "display_name": "Python [conda env:base] *",
   "language": "python",
   "name": "conda-base-py"
  },
  "language_info": {
   "codemirror_mode": {
    "name": "ipython",
    "version": 3
   },
   "file_extension": ".py",
   "mimetype": "text/x-python",
   "name": "python",
   "nbconvert_exporter": "python",
   "pygments_lexer": "ipython3",
   "version": "3.12.7"
  }
 },
 "nbformat": 4,
 "nbformat_minor": 5
}
