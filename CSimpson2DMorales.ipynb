{
 "cells": [
  {
   "cell_type": "code",
   "execution_count": 2,
   "id": "824168fc-59f5-4366-8b82-56bfb29851d9",
   "metadata": {},
   "outputs": [],
   "source": [
    "import numpy as np"
   ]
  },
  {
   "cell_type": "code",
   "execution_count": 22,
   "id": "e7ffe93f-1f75-4b47-96d8-3f2a279928f8",
   "metadata": {},
   "outputs": [],
   "source": [
    "def CSimpson2D(a, b, n, m):\n",
    "    h = (b-a)/n\n",
    "    J1 = 0 \n",
    "    J2 = 0\n",
    "    J3 = 0\n",
    "    for i in range(0, n+1):\n",
    "        x = a + i*h\n",
    "        HX = (d(x) - c(x))/m\n",
    "        K1 = f(x, c(x)) + f(x, d(x))\n",
    "        K2 = 0 \n",
    "        K3 = 0\n",
    "        for j in range(1, m):\n",
    "            y = c(x) + j*HX\n",
    "            Q = f(x,y)\n",
    "            if j % 2 == 0:\n",
    "                K2 = K2 + Q\n",
    "            else:\n",
    "                K3 = K3 + Q\n",
    "        L = (K1 + 2*K2 + 4*K3)*HX/3\n",
    "        if i == 0 or i == n:\n",
    "            J1 += L\n",
    "        elif i % 2 == 0:\n",
    "            J2 += L \n",
    "        else:\n",
    "            J3 += L\n",
    "    J = h*(J1 + 2*J2 + 4*J3)/3\n",
    "    \n",
    "    return J"
   ]
  },
  {
   "cell_type": "code",
   "execution_count": 28,
   "id": "56ed281a-434b-4f53-82bd-35bfcab2fc98",
   "metadata": {},
   "outputs": [
    {
     "name": "stdout",
     "output_type": "stream",
     "text": [
      " J = 0.3115733333333332 \n"
     ]
    }
   ],
   "source": [
    "#example 1: textbook page 248 problem 1(a)\n",
    "def f(x, y):\n",
    "    return x*y**2\n",
    "def c(x):\n",
    "    return 1.2 \n",
    "def d(x):\n",
    "    return 1.4 \n",
    "a = 2.1\n",
    "b = 2.5\n",
    "n = 4\n",
    "m = 4\n",
    "j = CSimpson2D(a, b, n, m)\n",
    "print(f\" J = {j} \")"
   ]
  },
  {
   "cell_type": "code",
   "execution_count": null,
   "id": "56aec0f6-b0a9-409e-b13d-4af197bb6614",
   "metadata": {},
   "outputs": [],
   "source": [
    "def f(x, y):\n",
    "    return np.exp(y-x)\n",
    "def c(x):\n",
    "    return 0\n",
    "def d(x):\n",
    "    return 0.5 \n",
    "a = 0 \n",
    "b = 0.5 \n",
    "n = 4\n",
    "m = 4\n"
   ]
  }
 ],
 "metadata": {
  "kernelspec": {
   "display_name": "Python [conda env:base] *",
   "language": "python",
   "name": "conda-base-py"
  },
  "language_info": {
   "codemirror_mode": {
    "name": "ipython",
    "version": 3
   },
   "file_extension": ".py",
   "mimetype": "text/x-python",
   "name": "python",
   "nbconvert_exporter": "python",
   "pygments_lexer": "ipython3",
   "version": "3.12.7"
  }
 },
 "nbformat": 4,
 "nbformat_minor": 5
}
