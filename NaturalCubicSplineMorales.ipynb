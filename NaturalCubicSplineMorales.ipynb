{
 "cells": [
  {
   "cell_type": "code",
   "execution_count": 2,
   "id": "30e51f70-8ae8-4b61-8348-81353e32e241",
   "metadata": {},
   "outputs": [],
   "source": [
    "import numpy as np"
   ]
  },
  {
   "cell_type": "code",
   "execution_count": 28,
   "id": "99402b15-5a0a-4ce4-8385-14502248fecf",
   "metadata": {},
   "outputs": [],
   "source": [
    "def NaturalCubicSpline(x,a):\n",
    "    #x=(x0, x1, ..., xn), a = f(x) the function values. 2nd derivative at boundary points = 0\n",
    "    n = x.size - 1\n",
    "    #need the following arrays for easy coding \n",
    "    h = np.zeros([n])\n",
    "    alpha = np.zeros([n])\n",
    "    l = np.zeros([n+1])\n",
    "    mu = np.zeros([n])\n",
    "    z = np.zeros([n+1])\n",
    "    #below are the output varaibles \n",
    "    #a: only outputs the values a[0],..., a[n-1], not a[n]\n",
    "    b = np.zeros([n])\n",
    "    c = np.zeros([n+1]) #+1 for easy coding, only output c[0], ..., c[n-1]\n",
    "    d = np.zeros([n])\n",
    "    #now follow the code outline (algorithm 3.4 on page 147)\n",
    "\n",
    "    for i in range(n):\n",
    "        h[i] = x[i+1] - x[i]\n",
    "\n",
    "    for i in range(1, n):\n",
    "        alpha[i] = (3/h[i])*(a[i+1] - a[i]) - (3/h[i-1])*(a[i] - a[i-1])\n",
    "\n",
    "    l[0] = 1\n",
    "    mu[0] = 0\n",
    "    z[0] = 0\n",
    "\n",
    "    for i in range(1, n):\n",
    "        l[i] = 2*(x[i+1] - x[i-1]) - h[i-1]*mu[i-1]\n",
    "        mu[i] = h[i]/l[i]\n",
    "        z[i] = (alpha[i] - h[i-1]*z[i-1])/ l[i]\n",
    "        \n",
    "    l[n] = 1\n",
    "    z[n] = 0\n",
    "    c[n] = 0\n",
    "    \n",
    "    for j in range(n-1, -1, -1):\n",
    "        c[j] = z[j] - mu[j]*c[j+1]\n",
    "        b[j] = (a[j+1] - a[j])/h[j] - h[j]*(c[j+1] + 2*c[j])/3\n",
    "        d[j] = (c[j+1] - c[j])/(3*h[j])\n",
    "\n",
    "    return a[0:n], b, c[0:n], d"
   ]
  },
  {
   "cell_type": "code",
   "execution_count": 50,
   "id": "1c3d321a-98f7-43f9-8c57-075f0958e985",
   "metadata": {},
   "outputs": [
    {
     "name": "stdout",
     "output_type": "stream",
     "text": [
      " -0.62050   3.45509   0.00000  -8.99579\n",
      " -0.28399   3.18521  -2.69874  -0.94630\n",
      "  0.00660   2.61708  -2.98263   9.94210\n"
     ]
    }
   ],
   "source": [
    "#example 1 on problem 3d on page 158\n",
    "x = np.array([0.1, 0.2, 0.3, 0.4]).T\n",
    "a = np.array([-0.62049958, -0.28398668, 0.00660095, 0.24842440]).T\n",
    "a,b,c,d = NaturalCubicSpline(x,a)\n",
    "n = 3\n",
    "for i in range(n):\n",
    "    print(f\"{a[i]:9.5f} {b[i]:9.5f} {c[i]:9.5f} {d[i]:9.5f}\")\n",
    "    "
   ]
  },
  {
   "cell_type": "code",
   "execution_count": 48,
   "id": "e1c9023c-4953-4ff3-ba26-81c926aedddd",
   "metadata": {},
   "outputs": [
    {
     "name": "stdout",
     "output_type": "stream",
     "text": [
      "  1.00000   1.46600   0.00000   0.25228\n",
      "  2.71828   2.22285   0.75685   1.69107\n",
      "  7.38906   8.80977   5.83007  -1.94336\n"
     ]
    }
   ],
   "source": [
    "#example 2 on page 148\n",
    "x = np.array([0,1,2,3]).T\n",
    "a = np.array([1, np.exp(1), np.exp(2), np.exp(3)]).T\n",
    "a,b,c,d = NaturalCubicSpline(x,a)\n",
    "n = 3\n",
    "for i in range(n):\n",
    "    print(f\"{a[i]:9.5f} {b[i]:9.5f} {c[i]:9.5f} {d[i]:9.5f}\")\n",
    "    "
   ]
  },
  {
   "cell_type": "code",
   "execution_count": null,
   "id": "3b9ef50b-cd82-4e25-9dd6-b480767ff7fd",
   "metadata": {},
   "outputs": [],
   "source": []
  }
 ],
 "metadata": {
  "kernelspec": {
   "display_name": "Python [conda env:base] *",
   "language": "python",
   "name": "conda-base-py"
  },
  "language_info": {
   "codemirror_mode": {
    "name": "ipython",
    "version": 3
   },
   "file_extension": ".py",
   "mimetype": "text/x-python",
   "name": "python",
   "nbconvert_exporter": "python",
   "pygments_lexer": "ipython3",
   "version": "3.12.7"
  }
 },
 "nbformat": 4,
 "nbformat_minor": 5
}
