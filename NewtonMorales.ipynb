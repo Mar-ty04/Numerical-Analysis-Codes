{
 "cells": [
  {
   "cell_type": "code",
   "execution_count": 55,
   "id": "7778ee21-8870-4260-bfa8-a8198caf8dee",
   "metadata": {},
   "outputs": [],
   "source": [
    "import numpy as np"
   ]
  },
  {
   "cell_type": "code",
   "execution_count": 57,
   "id": "887557e6-bcf8-4869-bcb6-fc776984c039",
   "metadata": {},
   "outputs": [],
   "source": [
    "def NewtonMorales(p0,TOL,N0):\n",
    "    i = 1 \n",
    "    while i <= N0:\n",
    "        p = p0 - f(p0)/fp(p0)\n",
    "        if abs(p-p0) < TOL:\n",
    "            info = 0\n",
    "            return p, info, i #i = number of iterations\n",
    "        i += 1\n",
    "        p0 = p \n",
    "    info = 1\n",
    "    return p, info, i # i = number of iterations"
   ]
  },
  {
   "cell_type": "code",
   "execution_count": 59,
   "id": "cb1615b4-9f4d-4f5f-b922-512d804a2b49",
   "metadata": {},
   "outputs": [
    {
     "name": "stdout",
     "output_type": "stream",
     "text": [
      "info = 0\n",
      "p = 0.7390851332151606\n",
      "Number of iterations = 4\n"
     ]
    }
   ],
   "source": [
    "def f(x):\n",
    "    return np.cos(x) - x\n",
    "def fp(x):\n",
    "    return -np.sin(x) - 1\n",
    "p0 = np.pi/4\n",
    "TOL = 10**-8\n",
    "N0 = 10\n",
    "[p, info, nIter] = NewtonMorales(p0,TOL,N0)\n",
    "print(f\"info = {info}\")\n",
    "print(f\"p = {p}\")\n",
    "print(f\"Number of iterations = {nIter}\")"
   ]
  },
  {
   "cell_type": "code",
   "execution_count": 67,
   "id": "5f6f8590-895d-4617-b1d3-94872f6ae24e",
   "metadata": {},
   "outputs": [
    {
     "name": "stdout",
     "output_type": "stream",
     "text": [
      "info = 0\n",
      "p = 1.3793645942220307\n",
      "Number of iterations = 9\n"
     ]
    }
   ],
   "source": [
    "def f(x):\n",
    "    return x**2-10*np.cos(x)\n",
    "def fp(x):\n",
    "    return 2*x+10*np.sin(x)\n",
    "p0 = 100\n",
    "TOL = 10**-8\n",
    "N0 = 1000\n",
    "[p, info, nIter] = NewtonMorales(p0,TOL,N0)\n",
    "print(f\"info = {info}\")\n",
    "print(f\"p = {p}\")\n",
    "print(f\"Number of iterations = {nIter}\")"
   ]
  },
  {
   "cell_type": "code",
   "execution_count": 81,
   "id": "4040ecdd-6598-463b-a17a-f8d5816382da",
   "metadata": {},
   "outputs": [
    {
     "name": "stdout",
     "output_type": "stream",
     "text": [
      "info = 0\n",
      "p = 1.8954884189695451\n",
      "Number of iterations = 15\n"
     ]
    }
   ],
   "source": [
    "def f(x):\n",
    "    return 1/2 + 1/4*x**2 - x*np.sin(x) - 1/2*np.cos(2*x)\n",
    "def fp(x):\n",
    "    return x/2 - x*np.cos(x) - np.sin(x) + np.sin(2*x)\n",
    "p0 = np.pi/2\n",
    "TOL = 10**-5\n",
    "N0 = 1000\n",
    "[p, info, nIter] = NewtonMorales(p0,TOL,N0)\n",
    "print(f\"info = {info}\")\n",
    "print(f\"p = {p}\")\n",
    "print(f\"Number of iterations = {nIter}\")"
   ]
  },
  {
   "cell_type": "code",
   "execution_count": null,
   "id": "9b1a83d2-8b3a-47d3-9ffd-5cd5c80b7361",
   "metadata": {},
   "outputs": [],
   "source": []
  }
 ],
 "metadata": {
  "kernelspec": {
   "display_name": "Python [conda env:base] *",
   "language": "python",
   "name": "conda-base-py"
  },
  "language_info": {
   "codemirror_mode": {
    "name": "ipython",
    "version": 3
   },
   "file_extension": ".py",
   "mimetype": "text/x-python",
   "name": "python",
   "nbconvert_exporter": "python",
   "pygments_lexer": "ipython3",
   "version": "3.12.7"
  }
 },
 "nbformat": 4,
 "nbformat_minor": 5
}
