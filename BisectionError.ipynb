{
 "cells": [
  {
   "cell_type": "code",
   "execution_count": 33,
   "id": "8c71af57-7ff7-4642-86b4-453e2a3e3f52",
   "metadata": {},
   "outputs": [],
   "source": [
    "#first cell\n",
    "import numpy as np"
   ]
  },
  {
   "cell_type": "code",
   "execution_count": 31,
   "id": "2c610b90-d3db-4422-bd02-16f00f755763",
   "metadata": {},
   "outputs": [],
   "source": [
    "#writing python fuction for Bisection error \n",
    "def BisectionError(a, b, eps):\n",
    "    #assume that esps is small postitive number\n",
    "    n = 1\n",
    "    while (b - a)/(2**n) >= eps:\n",
    "        n += 1\n",
    "    return n"
   ]
  },
  {
   "cell_type": "code",
   "execution_count": 41,
   "id": "505d5e3e-3c25-4b31-ad6c-d5e55def6e59",
   "metadata": {},
   "outputs": [
    {
     "name": "stdout",
     "output_type": "stream",
     "text": [
      "n = 27\n"
     ]
    }
   ],
   "source": [
    "#call the function for example 1\n",
    "a = 1\n",
    "b = 2\n",
    "eps = 10**-8 #the true value = 27\n",
    "n = BisectionError(a , b, eps)\n",
    "print(f\"n = {n}\")"
   ]
  },
  {
   "cell_type": "code",
   "execution_count": 43,
   "id": "2397027b-957a-448e-9190-87af0a3190df",
   "metadata": {},
   "outputs": [
    {
     "name": "stdout",
     "output_type": "stream",
     "text": [
      "n = 23\n"
     ]
    }
   ],
   "source": [
    "#call the function for example 2\n",
    "a = 0\n",
    "b = 5\n",
    "eps = 10**-6 #the true value = 23\n",
    "n = BisectionError(a , b, eps)\n",
    "print(f\"n = {n}\")"
   ]
  },
  {
   "cell_type": "code",
   "execution_count": null,
   "id": "21f3fb0b-fe60-41a1-acc6-f0b1bb2b1439",
   "metadata": {},
   "outputs": [],
   "source": []
  }
 ],
 "metadata": {
  "kernelspec": {
   "display_name": "Python [conda env:base] *",
   "language": "python",
   "name": "conda-base-py"
  },
  "language_info": {
   "codemirror_mode": {
    "name": "ipython",
    "version": 3
   },
   "file_extension": ".py",
   "mimetype": "text/x-python",
   "name": "python",
   "nbconvert_exporter": "python",
   "pygments_lexer": "ipython3",
   "version": "3.12.4"
  }
 },
 "nbformat": 4,
 "nbformat_minor": 5
}
