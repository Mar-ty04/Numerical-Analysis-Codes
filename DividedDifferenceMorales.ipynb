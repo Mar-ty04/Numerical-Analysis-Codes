{
 "cells": [
  {
   "cell_type": "code",
   "execution_count": 4,
   "id": "cd0ee711-843f-48fc-90ea-cc5a14c2cfae",
   "metadata": {},
   "outputs": [],
   "source": [
    "import numpy as np"
   ]
  },
  {
   "cell_type": "code",
   "execution_count": 6,
   "id": "7dd07d58-ce12-4cb6-86ac-0f78602b6650",
   "metadata": {},
   "outputs": [],
   "source": [
    "def MyDDifference(x,y):\n",
    "    n = len(x)\n",
    "    F = np.zeros([n,n])\n",
    "    #setting our first column to be our y values\n",
    "    F[:, 0] = y\n",
    "    #starting our for loops \n",
    "    for i in range(1, n):\n",
    "        for j in range(1, i+1):\n",
    "            F[i,j] = (F[i, j-1]-F[i-1, j-1])/(x[i]-x[i-j])\n",
    "    return F"
   ]
  },
  {
   "cell_type": "code",
   "execution_count": 10,
   "id": "da608340-ffec-46d0-94a4-9c3e0f7921e8",
   "metadata": {},
   "outputs": [
    {
     "name": "stdout",
     "output_type": "stream",
     "text": [
      "[[ 0.7651977   0.          0.          0.          0.        ]\n",
      " [ 0.620086   -0.48370567  0.          0.          0.        ]\n",
      " [ 0.4554022  -0.548946   -0.10873389  0.          0.        ]\n",
      " [ 0.2818186  -0.578612   -0.04944333  0.0658784   0.        ]\n",
      " [ 0.1103623  -0.571521    0.01181833  0.06806852  0.0018251 ]]\n"
     ]
    }
   ],
   "source": [
    "#example 1, worksheet6\n",
    "x = [1, 1.3, 1.6, 1.9, 2.2]\n",
    "y = [0.7651977, 0.6200860, 0.4554022, 0.2818186, 0.1103623]\n",
    "F =  MyDDifference(x,y)\n",
    "print(F)"
   ]
  },
  {
   "cell_type": "code",
   "execution_count": 12,
   "id": "c7c46927-5052-4069-a988-77fa7d05724f",
   "metadata": {},
   "outputs": [
    {
     "name": "stdout",
     "output_type": "stream",
     "text": [
      "[[   5.3           0.            0.            0.        ]\n",
      " [   2.          -33.            0.            0.        ]\n",
      " [   3.19          5.95        129.83333333    0.        ]\n",
      " [   1.          -21.9         -92.83333333 -556.66666667]]\n"
     ]
    }
   ],
   "source": [
    "#example 2, question 7(a) from textbook \n",
    "x = [-0.1, 0.0, 0.2, 0.3]\n",
    "y = [5.30000, 2.00000, 3.19000, 1.00000]\n",
    "F =  MyDDifference(x,y)\n",
    "print(F)"
   ]
  },
  {
   "cell_type": "code",
   "execution_count": null,
   "id": "a4ab9fa6-7421-4808-96d0-c34c05beb12f",
   "metadata": {},
   "outputs": [],
   "source": []
  }
 ],
 "metadata": {
  "kernelspec": {
   "display_name": "Python [conda env:base] *",
   "language": "python",
   "name": "conda-base-py"
  },
  "language_info": {
   "codemirror_mode": {
    "name": "ipython",
    "version": 3
   },
   "file_extension": ".py",
   "mimetype": "text/x-python",
   "name": "python",
   "nbconvert_exporter": "python",
   "pygments_lexer": "ipython3",
   "version": "3.12.7"
  }
 },
 "nbformat": 4,
 "nbformat_minor": 5
}
